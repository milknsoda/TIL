{
 "cells": [
  {
   "cell_type": "code",
   "execution_count": 2,
   "metadata": {},
   "outputs": [],
   "source": [
    "import requests\n",
    "import pprint\n",
    "import datetime\n",
    "import csv"
   ]
  },
  {
   "cell_type": "markdown",
   "metadata": {},
   "source": [
    "# 2번 문제"
   ]
  },
  {
   "cell_type": "code",
   "execution_count": null,
   "metadata": {},
   "outputs": [],
   "source": [
    "key = '*************'\n",
    "moviecd = '20196309'\n",
    "\n",
    "base_url2 = f'http://www.kobis.or.kr/kobisopenapi/webservice/rest/movie/searchMovieInfo.json?key={key}&movieCd={moviecd}'\n",
    "# for moviecd in movie_cd:\n",
    "\n",
    "response = requests.get(base_url2).json()\n",
    "\n",
    "pprint.pprint(response)"
   ]
  },
  {
   "cell_type": "code",
   "execution_count": null,
   "metadata": {},
   "outputs": [],
   "source": [
    "movie_if = response['movieInfoResult']['movieInfo']\n",
    "pprint.pprint(movie_if)"
   ]
  },
  {
   "cell_type": "code",
   "execution_count": null,
   "metadata": {},
   "outputs": [],
   "source": [
    "movie_if['movieCd']\n",
    "movie_if['movieNm']\n",
    "movie_if['movieNmEn']\n",
    "movie_if['movieNmOg']\n",
    "movie_if['audits'][0]['watchGradeNm']\n",
    "movie_if['prdtYear']\n",
    "movie_if['showTm']\n",
    "for i in movie_if['genres']:\n",
    "    print(i['genreNm'])\n",
    "for k in movie_if['directors']:\n",
    "    print(list(k.values()))"
   ]
  },
  {
   "cell_type": "code",
   "execution_count": null,
   "metadata": {},
   "outputs": [],
   "source": [
    "movie_data = {}\n",
    "genre = []\n",
    "director = []\n",
    "for i in movie_if['genres']:\n",
    "    genre.append(i['genreNm'])\n",
    "genre = ', '.join(genre)\n",
    "for k in movie_if['directors']:\n",
    "    director = list(k.values())\n",
    "director = ', '.join(director)\n",
    "print(genre, director)\n",
    "for mov in movie_cd:\n",
    "    movie_data[moviecd] = {\n",
    "                           '영화 대표코드' : movie_if.get('movieCd'),\n",
    "                           '영화명(국문)' : movie_if.get('movieNm'),\n",
    "                           '영화명(영문)' : movie_if.get('movieNmEn'),\n",
    "                           '영화명(원문)' : movie_if.get('movieNmOg'),\n",
    "                           '관람등급' : movie_if.get('audits')[0].get('watchGradeNm'),\n",
    "                           '개봉연도' : movie_if.get('prdtYear'),\n",
    "                           '상영시간' : movie_if.get('showTm'),\n",
    "                           '장르' : genre,\n",
    "                           '감독명' : director\n",
    "                        }\n",
    "pprint.pprint(movie_data)"
   ]
  },
  {
   "cell_type": "code",
   "execution_count": null,
   "metadata": {},
   "outputs": [],
   "source": [
    "# for moviecd in movie_cd:\n",
    "movie_data = {}\n",
    "for mov in movie_cd:\n",
    "    base_url2 = f'http://www.kobis.or.kr/kobisopenapi/webservice/rest/movie/searchMovieInfo.json?key={key}&movieCd={mov}'\n",
    "    response = requests.get(base_url2).json()\n",
    "    movie_if = response['movieInfoResult']['movieInfo']\n",
    "    genre = []\n",
    "    director = []\n",
    "    for i in movie_if['genres']:\n",
    "        genre.append(i['genreNm'])\n",
    "    genre = ', '.join(genre)\n",
    "    for k in movie_if['directors']:\n",
    "        director = list(k.values())\n",
    "    director = ', '.join(director)\n",
    "    movie_data[mov] = {'영화 대표코드' : movie_if.get('movieCd'),\n",
    "                       '영화명(국문)' : movie_if.get('movieNm'),\n",
    "                       '영화명(영문)' : movie_if.get('movieNmEn'),\n",
    "                       '영화명(원문)' : movie_if.get('movieNmOg'),\n",
    "                       '관람등급' : movie_if.get('audits')[0].get('watchGradeNm') if movie_if.get('audits') else None,\n",
    "                       '개봉연도' : movie_if.get('prdtYear'),\n",
    "                       '상영시간' : movie_if.get('showTm'),\n",
    "                       '장르' : genre,\n",
    "                       '감독명' : director\n",
    "                    }\n"
   ]
  },
  {
   "cell_type": "code",
   "execution_count": null,
   "metadata": {},
   "outputs": [],
   "source": [
    "with open('boxoffice.csv', 'r', encoding='utf-8') as f:\n",
    "    movie_cd = []\n",
    "    for line in f.readlines():\n",
    "        if line.split(',')[0] != '\\n' and line.split(',')[0].isdigit():\n",
    "            movie_cd.append(line.split(',')[0])\n",
    "print(movie_cd)\n",
    "    "
   ]
  },
  {
   "cell_type": "code",
   "execution_count": null,
   "metadata": {},
   "outputs": [],
   "source": [
    "# 2번 완성코드\n",
    "\n",
    "with open('boxoffice.csv', 'r', encoding='utf-8') as f:\n",
    "    movie_cd = []\n",
    "    for line in f.readlines():\n",
    "        if line.split(',')[0] != '\\n' and line.split(',')[0].isdigit():\n",
    "            movie_cd.append(line.split(',')[0])\n",
    "\n",
    "movie_data = {}\n",
    "for mov in movie_cd:\n",
    "    base_url2 = f'http://www.kobis.or.kr/kobisopenapi/webservice/rest/movie/searchMovieInfo.json?key={key}&movieCd={mov}'\n",
    "    response = requests.get(base_url2).json()\n",
    "    movie_if = response['movieInfoResult']['movieInfo']\n",
    "    genre = []\n",
    "    director = []\n",
    "    for i in movie_if['genres']:\n",
    "        genre.append(i['genreNm'])\n",
    "    genre = ', '.join(genre)\n",
    "    for k in movie_if['directors']:\n",
    "        director = list(k.values())\n",
    "    director = ', '.join(director)\n",
    "    movie_data[mov] = {'영화 대표코드' : movie_if.get('movieCd'),\n",
    "                       '영화명(국문)' : movie_if.get('movieNm'),\n",
    "                       '영화명(영문)' : movie_if.get('movieNmEn'),\n",
    "                       '영화명(원문)' : movie_if.get('movieNmOg'),\n",
    "                       '관람등급' : movie_if.get('audits')[0].get('watchGradeNm') if movie_if.get('audits') else None,\n",
    "                       '개봉연도' : movie_if.get('prdtYear'),\n",
    "                       '상영시간' : movie_if.get('showTm'),\n",
    "                       '장르' : genre,\n",
    "                       '감독명' : director\n",
    "                    }\n",
    "\n",
    "with open('movie.csv', 'w', encoding='utf-8') as f:\n",
    "    fieldnames = ['영화 대표코드', '영화명(국문)', '영화명(영문)', '영화명(원문)', '관람등급', '개봉연도', '상영시간', '장르', '감독명'] # 여기만 변경하면서 사용?\n",
    "    csv_writer = csv.DictWriter(f, fieldnames=fieldnames)\n",
    "    csv_writer.writeheader()\n",
    "    for item in movie_data.values():\n",
    "        csv_writer.writerow(item)"
   ]
  },
  {
   "cell_type": "code",
   "execution_count": null,
   "metadata": {},
   "outputs": [],
   "source": []
  }
 ],
 "metadata": {
  "kernelspec": {
   "display_name": "Python 3",
   "language": "python",
   "name": "python3"
  },
  "language_info": {
   "codemirror_mode": {
    "name": "ipython",
    "version": 3
   },
   "file_extension": ".py",
   "mimetype": "text/x-python",
   "name": "python",
   "nbconvert_exporter": "python",
   "pygments_lexer": "ipython3",
   "version": "3.7.3"
  },
  "toc": {
   "base_numbering": 1,
   "nav_menu": {},
   "number_sections": true,
   "sideBar": true,
   "skip_h1_title": false,
   "title_cell": "Table of Contents",
   "title_sidebar": "Contents",
   "toc_cell": false,
   "toc_position": {},
   "toc_section_display": true,
   "toc_window_display": false
  }
 },
 "nbformat": 4,
 "nbformat_minor": 2
}
