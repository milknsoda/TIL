{
 "cells": [
  {
   "cell_type": "code",
   "execution_count": 1,
   "metadata": {},
   "outputs": [],
   "source": [
    "import requests\n",
    "import pprint\n",
    "import datetime\n",
    "import csv"
   ]
  },
  {
   "cell_type": "markdown",
   "metadata": {},
   "source": [
    "# 3번 문제"
   ]
  },
  {
   "cell_type": "code",
   "execution_count": null,
   "metadata": {},
   "outputs": [],
   "source": [
    "director_name = []\n",
    "with open('movie.csv', 'r', encoding='utf-8') as f:\n",
    "    reader = csv.DictReader(f)\n",
    "    for row in reader:\n",
    "        director_name.append(((row['감독명'].split(', '))[0], row['영화명(국문)']))"
   ]
  },
  {
   "cell_type": "code",
   "execution_count": null,
   "metadata": {},
   "outputs": [],
   "source": [
    "print(director_name)"
   ]
  },
  {
   "cell_type": "code",
   "execution_count": null,
   "metadata": {},
   "outputs": [],
   "source": [
    "key = '************'\n",
    "peopleNm = ('존 왓츠', '스파이더맨: 파 프롬 홈')\n",
    "# for nafi in director_name:\n",
    "#     peopleNm = nafi\n",
    "people_url = f'http://www.kobis.or.kr/kobisopenapi/webservice/rest/people/searchPeopleList.json?key={key}&peopleNm={peopleNm[0]}&filmoNames={peopleNm[1]}'\n",
    "response = requests.get(people_url).json()\n",
    "\n",
    "pprint.pprint(response)"
   ]
  },
  {
   "cell_type": "code",
   "execution_count": null,
   "metadata": {},
   "outputs": [],
   "source": [
    "peopleNm = ''\n",
    "for nafi in director_name:\n",
    "    peopleNm = nafi\n",
    "    print(peopleNm)"
   ]
  },
  {
   "cell_type": "code",
   "execution_count": null,
   "metadata": {},
   "outputs": [],
   "source": [
    "man = response.get('peopleListResult').get('peopleList')[0]\n",
    "pprint.pprint(man)"
   ]
  },
  {
   "cell_type": "code",
   "execution_count": null,
   "metadata": {},
   "outputs": [],
   "source": [
    "director_pool = {}\n",
    "for peopleNm in director_name:\n",
    "    director_pool[peopleNm[0]] = {\n",
    "                                   '영화인 코드' : man.get('peopleCd') if man.get('peopleCd') else None,\n",
    "                                   '영화인명' : man.get('peopleNm') if man.get('peopleNm') else None,\n",
    "                                   '분야' : man.get('repRoleNm') if man.get('repRoleNm') else None,\n",
    "                                   '필모리스트' : man.get('filmoNames').split('|') if man.get('filmoNames').split('|') else None\n",
    "                                 }\n",
    "\n"
   ]
  },
  {
   "cell_type": "code",
   "execution_count": null,
   "metadata": {},
   "outputs": [],
   "source": [
    "pprint.pprint(director_pool)"
   ]
  },
  {
   "cell_type": "code",
   "execution_count": null,
   "metadata": {},
   "outputs": [],
   "source": [
    "with open('movie.csv', 'w', encoding='utf-8') as f:\n",
    "    fieldnames = ['영화 대표코드', '영화명(국문)', '영화명(영문)', '영화명(원문)', '관람등급', '개봉연도', '상영시간', '장르', '감독명'] # 여기만 변경하면서 사용?\n",
    "    csv_writer = csv.DictWriter(f, fieldnames=fieldnames)\n",
    "    csv_writer.writeheader()\n",
    "    for item in movie_data.values():\n",
    "        csv_writer.writerow(item)"
   ]
  },
  {
   "cell_type": "code",
   "execution_count": null,
   "metadata": {},
   "outputs": [],
   "source": [
    "# 3번 완성코드\n",
    "director_name = []\n",
    "with open('movie.csv', 'r', encoding='utf-8') as f:\n",
    "    reader = csv.DictReader(f)\n",
    "    for row in reader:\n",
    "        director_name.append(((row['감독명'].split(', '))[0], row['영화명(국문)']))\n",
    "\n",
    "director_pool = {}\n",
    "for peopleNm in director_name:\n",
    "    people_url = f'http://www.kobis.or.kr/kobisopenapi/webservice/rest/people/searchPeopleList.json?key={key}&peopleNm={peopleNm[0]}&filmoNames={peopleNm[1]}'\n",
    "    response = requests.get(people_url).json()\n",
    "    man = response.get('peopleListResult').get('peopleList')[0] if response.get('peopleListResult').get('peopleList') else None\n",
    "    director_pool[peopleNm[0]] = {\n",
    "                                   '영화인 코드' : man.get('peopleCd') if man.get('peopleCd') else None,\n",
    "                                   '영화인명' : man.get('peopleNm') if man.get('peopleNm') else None,\n",
    "                                   '분야' : man.get('repRoleNm') if man.get('repRoleNm') else None,\n",
    "                                   '필모리스트' : ','.join(man.get('filmoNames').split('|')) if man.get('filmoNames') else None\n",
    "                                 } if response.get('peopleListResult').get('peopleList') else None\n",
    "\n",
    "with open('director.csv', 'w', encoding='utf-8') as f:\n",
    "    fieldnames = ['영화인 코드', '영화인명', '분야', '필모리스트'] # 여기만 변경하면서 사용?\n",
    "    csv_writer = csv.DictWriter(f, fieldnames=fieldnames)\n",
    "    csv_writer.writeheader()\n",
    "    for item in director_pool.values():\n",
    "        csv_writer.writerow(item)"
   ]
  },
  {
   "cell_type": "code",
   "execution_count": null,
   "metadata": {},
   "outputs": [],
   "source": [
    "len(director_name)"
   ]
  }
 ],
 "metadata": {
  "kernelspec": {
   "display_name": "Python 3",
   "language": "python",
   "name": "python3"
  },
  "language_info": {
   "codemirror_mode": {
    "name": "ipython",
    "version": 3
   },
   "file_extension": ".py",
   "mimetype": "text/x-python",
   "name": "python",
   "nbconvert_exporter": "python",
   "pygments_lexer": "ipython3",
   "version": "3.7.3"
  },
  "toc": {
   "base_numbering": 1,
   "nav_menu": {},
   "number_sections": true,
   "sideBar": true,
   "skip_h1_title": false,
   "title_cell": "Table of Contents",
   "title_sidebar": "Contents",
   "toc_cell": false,
   "toc_position": {},
   "toc_section_display": true,
   "toc_window_display": false
  }
 },
 "nbformat": 4,
 "nbformat_minor": 2
}
