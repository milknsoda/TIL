{
 "cells": [
  {
   "cell_type": "markdown",
   "metadata": {},
   "source": [
    "# 버거지수\n",
    "> 한 도시의 발전 수준은 `(버거킹의 개수 + 맥도날드의 개수 + KFC의 개수) / 롯데리아의 개수` 로 나타낼 수 있다고 한다.\n",
    ">\n",
    "> locationA 에 있는 딕셔너리를 인자로 받아 버거지수를 계산하는 함수를 만들고 호출하시오."
   ]
  },
  {
   "cell_type": "code",
   "execution_count": 79,
   "metadata": {},
   "outputs": [],
   "source": [
    "locationA = {\n",
    "    'king': 2,\n",
    "    'mc': 4,\n",
    "    'kfc': 1,\n",
    "    'ria': 3\n",
    "}\n",
    "\n",
    "# 아래에 코드를 작성하세요.\n",
    "\n",
    "def burger(dic):\n",
    "    up = 0\n",
    "    down = 0\n",
    "    for key, value in dic.items():\n",
    "        if key == 'ria':\n",
    "            down += value\n",
    "        else:\n",
    "            up += value\n",
    "    result = up / down\n",
    "    return result"
   ]
  },
  {
   "cell_type": "code",
   "execution_count": 80,
   "metadata": {},
   "outputs": [
    {
     "data": {
      "text/plain": [
       "2.3333333333333335"
      ]
     },
     "execution_count": 80,
     "metadata": {},
     "output_type": "execute_result"
    }
   ],
   "source": [
    "burger(locationA)"
   ]
  },
  {
   "cell_type": "code",
   "execution_count": 81,
   "metadata": {},
   "outputs": [],
   "source": [
    "def burger2(king, mc, kfc, ria):\n",
    "    return (king + mc + kfc) / ria"
   ]
  },
  {
   "cell_type": "code",
   "execution_count": 82,
   "metadata": {},
   "outputs": [
    {
     "data": {
      "text/plain": [
       "2.3333333333333335"
      ]
     },
     "execution_count": 82,
     "metadata": {},
     "output_type": "execute_result"
    }
   ],
   "source": [
    "burger2(**locationA)"
   ]
  },
  {
   "cell_type": "markdown",
   "metadata": {},
   "source": [
    "# 종합소득세 계산하기\n",
    "> A라는 나라에서 종합소득세는 과세표준 금액 구간에 따라 다른 세율이 적용됩니다.\n",
    "\n",
    "|과세표준액|세율|\n",
    "|-------|---|\n",
    "|1,200이하|6%|\n",
    "|1,200 ~ 4,600|15%|\n",
    "|4,600 ~ |35%|\n",
    "\n",
    "```\n",
    "즉, 1,300원을 벌었을 경우 1,200\\*0.06 + 100\\*0.15를 계산한 결과가 납부해야 하는 세액입니다.\n",
    "\n",
    "함수 tax를 만들고 납부해야하는 세금의 결과를 반환하는 함수를 만들어보세요.\n",
    "```"
   ]
  },
  {
   "cell_type": "code",
   "execution_count": 83,
   "metadata": {},
   "outputs": [],
   "source": [
    "# 아래에 코드를 작성하세요\n",
    "def tax(x):\n",
    "    if x > 4600:\n",
    "        result = 1200 * 0.06 + 3400 * 0.15 + (x - 4600) * 0.35\n",
    "    elif x > 1200:\n",
    "        result = 1200 * 0.06 + (x - 1200) * 0.15\n",
    "    else:\n",
    "        result = x * 0.06\n",
    "    return result"
   ]
  },
  {
   "cell_type": "code",
   "execution_count": 84,
   "metadata": {},
   "outputs": [
    {
     "data": {
      "text/plain": [
       "722.0"
      ]
     },
     "execution_count": 84,
     "metadata": {},
     "output_type": "execute_result"
    }
   ],
   "source": [
    "tax(5000)"
   ]
  },
  {
   "cell_type": "code",
   "execution_count": 87,
   "metadata": {},
   "outputs": [],
   "source": [
    "def tax2(x):\n",
    "    if x > 4600:\n",
    "        return 1200 * 0.06 + 3400 * 0.15 + (x - 4600) * 0.35\n",
    "    elif x > 1200:\n",
    "        return 1200 * 0.06 + (x - 1200) * 0.15\n",
    "    else:\n",
    "        return x * 0.06"
   ]
  },
  {
   "cell_type": "code",
   "execution_count": 88,
   "metadata": {},
   "outputs": [
    {
     "data": {
      "text/plain": [
       "722.0"
      ]
     },
     "execution_count": 88,
     "metadata": {},
     "output_type": "execute_result"
    }
   ],
   "source": [
    "tax2(5000)"
   ]
  },
  {
   "cell_type": "markdown",
   "metadata": {},
   "source": [
    "# 텔레그램 챗봇\n",
    "\n",
    "> 텔레그램 메신져를 이용하여 챗봇을 개발하려고한다.\n",
    ">\n",
    "> api를 사용하기 위해 공식문서를 찾아보니 `https://api.telegram.org/bot<token>/METHOD_NAME`와 같은 경로로 \n",
    ">\n",
    "> token과 사용할 method의 이름을 넣어서 요청으로 보내라고 한다.\n",
    ">\n",
    "> 사용자에게 토큰과 사용할 메소드 이름을 받아 url을 만들어주는 함수를 만들어보시오.\n",
    ">\n",
    "> 개발자가 발급받은 토큰은 길이가 41자 라는 규칙을 따른다. 사용자가 잘못된 토큰을 넣었다면 '403'을 반환하시오\n",
    "\n",
    "```\n",
    "예시)\n",
    "https://api.telegram.org/bot123456:ABC-DEF1234ghIkl-zyx57W2v1u123ew11/getMe\n",
    "```"
   ]
  },
  {
   "cell_type": "code",
   "execution_count": 89,
   "metadata": {},
   "outputs": [
    {
     "name": "stdout",
     "output_type": "stream",
     "text": [
      "403\n"
     ]
    },
    {
     "data": {
      "text/plain": [
       "'https://api.telegram.org/bot123456:ABC-DEF1234ghIkl-zyx57W2v1u123ew11/getMe'"
      ]
     },
     "execution_count": 89,
     "metadata": {},
     "output_type": "execute_result"
    }
   ],
   "source": [
    "# 아래에 코드를 작성하세요\n",
    "def tele(token, method):\n",
    "    base_url = 'https://api.telegram.org/bot'\n",
    "    if len(token) != 41:\n",
    "        print('403')\n",
    "        return 403\n",
    "    return f'{base_url}{token}/{method}'\n",
    "\n",
    "tele('123123:afjio;wef', 'getMe')\n",
    "tele('123456:ABC-DEF1234ghIkl-zyx57W2v1u123ew11', 'getMe')"
   ]
  },
  {
   "cell_type": "markdown",
   "metadata": {},
   "source": [
    "# 솔로 천국\n",
    "> 리스트가 주어집니다. 리스트의 각 요소는 숫자 0부터 9까지로 이루어져 있습니다.\n",
    "> \n",
    "> 이때, 리스트에서 연속적으로 나타나는 숫자는 하나만 남기고 전부 제거하려고 합니다.\n",
    "> \n",
    "> 리스트에서 연속적으로 나타나는 숫자는 제거하고 남은 수들을 반환하는 lonely 함수를 작성해 주세요.\n",
    "> \n",
    "> 단, 제거된 후 남은 수들을 반환할 때는 리스트의 요소들의 순서를 유지해야 합니다.\n",
    "\n",
    "```\n",
    "예시)\n",
    "\n",
    "lonely([1, 1, 3, 3, 0, 1, 1]) #=> [1, 3, 0, 1]\n",
    "lonely([4,4,4,3,3]) #=> [4,3]\n",
    "```"
   ]
  },
  {
   "cell_type": "code",
   "execution_count": 73,
   "metadata": {},
   "outputs": [],
   "source": [
    "# 여기에 코드를 작성하세요\n",
    "def lonely(list_o):\n",
    "#     list_c = list_o\n",
    "#     count = 0\n",
    "#     for i in range(len(list_o)-1):\n",
    "#         if list_c[count] == list_c[count+1]:\n",
    "#             del list_c[count+1]\n",
    "#         else:\n",
    "#             count += 1\n",
    "#     print(list_c)    # 너무 어렵게 생각했다..ㅠ\n",
    "    \n",
    "    \n",
    "    list_d = []\n",
    "    e = list_o[0]\n",
    "    list_d.append(e)\n",
    "    for value in list_o:\n",
    "        if e != value:\n",
    "            list_d.append(value)\n",
    "            e = value\n",
    "    print(list_d)"
   ]
  },
  {
   "cell_type": "code",
   "execution_count": 74,
   "metadata": {},
   "outputs": [
    {
     "name": "stdout",
     "output_type": "stream",
     "text": [
      "[1, 3, 0, 1]\n",
      "[4, 3]\n"
     ]
    }
   ],
   "source": [
    "lonely([1, 1, 3, 3, 0, 1, 1])\n",
    "lonely([4,4,4,3,3])"
   ]
  },
  {
   "cell_type": "code",
   "execution_count": 90,
   "metadata": {},
   "outputs": [],
   "source": [
    "def lonely2(nums):\n",
    "    # 하나씩 확인하면서,\n",
    "        # 만약에 지난번 숫자와 지금 숫자가 동일하면 지운다.\n",
    "    # nums를 반환한다.  => out of range 오류가 날 위험이 높다.\n",
    "    \n",
    "    # result 빈통\n",
    "    result = [] # 담아놓고 시작!\n",
    "    for idx, value in enumerate(nums):\n",
    "        if idx == 0 or result[-1] != value:\n",
    "            result.append(value)\n",
    "        # 만약에 result의 마지막 원소와 지금 숫자가 동일하지 않다면 넣는다!\n",
    "    return result"
   ]
  },
  {
   "cell_type": "code",
   "execution_count": 91,
   "metadata": {},
   "outputs": [
    {
     "data": {
      "text/plain": [
       "[1, 3, 0, 1]"
      ]
     },
     "execution_count": 91,
     "metadata": {},
     "output_type": "execute_result"
    }
   ],
   "source": [
    "lonely2([1, 1, 3, 3, 0, 1, 1])"
   ]
  }
 ],
 "metadata": {
  "kernelspec": {
   "display_name": "Python 3",
   "language": "python",
   "name": "python3"
  },
  "language_info": {
   "codemirror_mode": {
    "name": "ipython",
    "version": 3
   },
   "file_extension": ".py",
   "mimetype": "text/x-python",
   "name": "python",
   "nbconvert_exporter": "python",
   "pygments_lexer": "ipython3",
   "version": "3.7.3"
  },
  "toc": {
   "base_numbering": 1,
   "nav_menu": {},
   "number_sections": true,
   "sideBar": true,
   "skip_h1_title": false,
   "title_cell": "Table of Contents",
   "title_sidebar": "Contents",
   "toc_cell": false,
   "toc_position": {},
   "toc_section_display": true,
   "toc_window_display": false
  }
 },
 "nbformat": 4,
 "nbformat_minor": 2
}
