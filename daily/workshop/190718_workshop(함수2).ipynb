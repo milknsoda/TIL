{
 "cells": [
  {
   "cell_type": "markdown",
   "metadata": {},
   "source": [
    "# 함수 2\n",
    "* 조건문 및 반복문에 대한 이해\n",
    "* 함수에 대한 이해"
   ]
  },
  {
   "cell_type": "markdown",
   "metadata": {},
   "source": [
    "## 문제\n",
    "* 양의 정수 x를 입력 받아 제곱근의 근사값을 반환하는 함수를 작성하세요.\n",
    "* `sqrt()` 사용금지"
   ]
  },
  {
   "cell_type": "code",
   "execution_count": 82,
   "metadata": {},
   "outputs": [],
   "source": [
    "def my_sqrt(n):\n",
    "    for i in range(1, n):\n",
    "        if i**2 <= n < (i+1)**2:\n",
    "            l = i\n",
    "            r = i + 1\n",
    "    if n <= 0:\n",
    "        return '잘못된 입력'\n",
    "    elif n == 1:\n",
    "        return 1\n",
    "    while abs(l**2 - n) >= 1e-10:\n",
    "        if n < ((r + l) / 2)**2:\n",
    "            r = (r + l) / 2\n",
    "        elif n > ((r + l) / 2)**2:\n",
    "            l = (r + l) / 2\n",
    "        print(l, r)\n",
    "    print(l)"
   ]
  },
  {
   "cell_type": "code",
   "execution_count": 81,
   "metadata": {},
   "outputs": [
    {
     "name": "stdout",
     "output_type": "stream",
     "text": [
      "1 1.5\n",
      "1.25 1.5\n",
      "1.375 1.5\n",
      "1.375 1.4375\n",
      "1.40625 1.4375\n",
      "1.40625 1.421875\n",
      "1.4140625 1.421875\n",
      "1.4140625 1.41796875\n",
      "1.4140625 1.416015625\n",
      "1.4140625 1.4150390625\n",
      "1.4140625 1.41455078125\n",
      "1.4140625 1.414306640625\n",
      "1.4141845703125 1.414306640625\n",
      "1.4141845703125 1.41424560546875\n",
      "1.4141845703125 1.414215087890625\n",
      "1.4141998291015625 1.414215087890625\n",
      "1.4142074584960938 1.414215087890625\n",
      "1.4142112731933594 1.414215087890625\n",
      "1.4142131805419922 1.414215087890625\n",
      "1.4142131805419922 1.4142141342163086\n",
      "1.4142131805419922 1.4142136573791504\n",
      "1.4142134189605713 1.4142136573791504\n",
      "1.4142135381698608 1.4142136573791504\n",
      "1.4142135381698608 1.4142135977745056\n",
      "1.4142135381698608 1.4142135679721832\n",
      "1.414213553071022 1.4142135679721832\n",
      "1.4142135605216026 1.4142135679721832\n",
      "1.4142135605216026 1.414213564246893\n",
      "1.4142135605216026 1.4142135623842478\n",
      "1.4142135614529252 1.4142135623842478\n",
      "1.4142135619185865 1.4142135623842478\n",
      "1.4142135621514171 1.4142135623842478\n",
      "1.4142135622678325 1.4142135623842478\n",
      "1.4142135623260401 1.4142135623842478\n",
      "1.414213562355144 1.4142135623842478\n",
      "1.414213562355144\n"
     ]
    }
   ],
   "source": [
    "my_sqrt(2)"
   ]
  },
  {
   "cell_type": "code",
   "execution_count": 85,
   "metadata": {},
   "outputs": [
    {
     "name": "stdout",
     "output_type": "stream",
     "text": [
      "4.000000000010914\n"
     ]
    }
   ],
   "source": [
    "# 풀이!\n",
    "def my_sqrt2(n):\n",
    "    a, b = 1, n\n",
    "    result = 1\n",
    "    while abs(result**2 - n) >= 1e-10:\n",
    "        result = (a + b) / 2\n",
    "        if result**2 < n:\n",
    "            a = result\n",
    "        else:\n",
    "            b = result\n",
    "    return result\n",
    "\n",
    "print(my_sqrt2(16))"
   ]
  }
 ],
 "metadata": {
  "kernelspec": {
   "display_name": "Python 3",
   "language": "python",
   "name": "python3"
  },
  "language_info": {
   "codemirror_mode": {
    "name": "ipython",
    "version": 3
   },
   "file_extension": ".py",
   "mimetype": "text/x-python",
   "name": "python",
   "nbconvert_exporter": "python",
   "pygments_lexer": "ipython3",
   "version": "3.7.3"
  },
  "toc": {
   "base_numbering": 1,
   "nav_menu": {},
   "number_sections": true,
   "sideBar": true,
   "skip_h1_title": false,
   "title_cell": "Table of Contents",
   "title_sidebar": "Contents",
   "toc_cell": false,
   "toc_position": {},
   "toc_section_display": true,
   "toc_window_display": false
  }
 },
 "nbformat": 4,
 "nbformat_minor": 2
}
